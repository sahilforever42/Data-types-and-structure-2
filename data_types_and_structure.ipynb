{
  "nbformat": 4,
  "nbformat_minor": 0,
  "metadata": {
    "colab": {
      "provenance": []
    },
    "kernelspec": {
      "name": "python3",
      "display_name": "Python 3"
    },
    "language_info": {
      "name": "python"
    }
  },
  "cells": [
    {
      "cell_type": "markdown",
      "source": [
        "#Data Types and Structure"
      ],
      "metadata": {
        "id": "6iNazNjNhoDF"
      }
    },
    {
      "cell_type": "markdown",
      "source": [
        "1. What are data structures, and why are they important?"
      ],
      "metadata": {
        "id": "ovG918ODiueh"
      }
    },
    {
      "cell_type": "markdown",
      "source": [
        "-  Data structures are fundamental concepts in computer science. They are specialized formats for organizing and storing data, enabling efficient access,manipulation."
      ],
      "metadata": {
        "id": "qpI9uJ6ui8V9"
      }
    },
    {
      "cell_type": "markdown",
      "source": [
        "2. Explain the difference between mutable and immutable data types with examples.\n",
        "-  Mutable data types can be modified whereas we can not modify the data in immutable data types.\n",
        "For example, lists are mutable whereas the tuple is immutable."
      ],
      "metadata": {
        "id": "YYVlkjO6jLxl"
      }
    },
    {
      "cell_type": "markdown",
      "source": [
        "3. What are the main differences between lists and tuples in Python?\n",
        "-  List are represented using square brackets whereas tuples are represented as curved brackets. Lists are mutable whereas tuples are immutable that means we can modify data in list whereas we can not modify data in tuples."
      ],
      "metadata": {
        "id": "6aCA7Xpek6K7"
      }
    },
    {
      "cell_type": "markdown",
      "source": [
        "4. Describe how dictionaries store data?\n",
        "-  Dictionaries in Python store data in a key-value pair format."
      ],
      "metadata": {
        "id": "mtG5ZinPlKTm"
      }
    },
    {
      "cell_type": "markdown",
      "source": [
        "5. Why might you use a set instead of a list in Python?\n",
        "-  Set stores only unique values that means if there are duplicate values then set will automatically removes it. Set also supports mathematical functions like Union, Intersection, Difference, Symmetric.\n"
      ],
      "metadata": {
        "id": "5Q2MLb6LlZUi"
      }
    },
    {
      "cell_type": "markdown",
      "source": [
        "6. What is a string in Python, and how is it different from a list?\n",
        "-  String is a sequence of characters enclosed within single ('...') or double quotes (\"...\").\n",
        "- String is a sequence of characters enclosed within single ('...') or double quotes (\"...\").String is a sequence of characters enclosed within single ('...') or double quotes (\"...\").\n",
        "- String is immutable whereas list is mutable.\n",
        "\n",
        "- String is used to store text characters whereas lists are used to store variety of data types."
      ],
      "metadata": {
        "id": "f4niTcxpl1F8"
      }
    },
    {
      "cell_type": "markdown",
      "source": [
        "7. How do tuples ensure data integrity in Python?\n",
        "-  Tuples in Python ensure data integrity primarily through their immutability. This means that once a tuple is created, its contents cannot be changed."
      ],
      "metadata": {
        "id": "OE6AlDOTmy2v"
      }
    },
    {
      "cell_type": "markdown",
      "source": [
        "8. What is a hash table, and how does it relate to dictionaries in Python?\n",
        "- A hash table is a data structure that uses a hash function to map keys to specific locations within an array.Dictionaries store data in key-value pairs, where the keys are used to hash and find the corresponding values.\n",
        "Dictionaries store data in key-value pairs, where the keys are used to hash and find the corresponding values."
      ],
      "metadata": {
        "id": "TH8QcmPJnBSt"
      }
    },
    {
      "cell_type": "markdown",
      "source": [
        "9. Can lists contain different data types in Python?\n",
        "-  Yes, a can contain different data types in Python. Pythom List are heterogenous, meaining they can hold elements of various data types such as integers, strings, float, objects or even other list."
      ],
      "metadata": {
        "id": "kUHCYcS7nWZ8"
      }
    },
    {
      "cell_type": "markdown",
      "source": [
        "10.Explain why strings are immutable in Python?\n",
        "-  Immutable objects can be easily cached. Since the value of a string never changes, its hash value (used for dictionary lookups) remains constant. This allows Python to cache the hash value, leading to faster dictionary lookups."
      ],
      "metadata": {
        "id": "WmBYRPCsohIT"
      }
    },
    {
      "cell_type": "markdown",
      "source": [
        "11. What advantages do dictionaries offer over lists for certain tasks?\n",
        "- When you need fast lookups by a specific identifier (key).\n",
        "-When you want to store data in an associative manner (key-value pairs)."
      ],
      "metadata": {
        "id": "o3U30Mf0pSs3"
      }
    },
    {
      "cell_type": "markdown",
      "source": [
        "12. Describe a scenario where using a tuple would be preferable over a list?\n",
        "- We can use tuple whenever we need to store hostname, password or aadhar card number."
      ],
      "metadata": {
        "id": "iZwXQnpnplTu"
      }
    },
    {
      "cell_type": "markdown",
      "source": [
        "13. How do sets handle duplicate values in Python?\n",
        "- Sets in Python handle duplicate values by automatically removing them.\n",
        "A fundamental property of a set is that it can only contain unique elements\n",
        "When you create a set from a list or other iterable containing duplicates, the set constructor (set()) automatically eliminates any duplicate values."
      ],
      "metadata": {
        "id": "ViFnChnGp7Sc"
      }
    },
    {
      "cell_type": "markdown",
      "source": [
        "14. How does the “in” keyword work differently for lists and dictionaries?\n",
        "- The in operator checks if a given value exists as an element within the list.\n",
        "The in operator checks if a given value exists as a key within the dictionary."
      ],
      "metadata": {
        "id": "12JM6U0KrkOL"
      }
    },
    {
      "cell_type": "markdown",
      "source": [
        "15. Can you modify the elements of a tuple? Explain why or why not?\n",
        "- It is not directly possible to modify the elements of a tuple in Python.\n",
        "If an element within the tuple itself is mutable (like a list), we can modify that element directly."
      ],
      "metadata": {
        "id": "gSaPYZKosw8-"
      }
    },
    {
      "cell_type": "markdown",
      "source": [
        "16. What is a nested dictionary, and give an example of its use case?\n",
        "-  A nested dictionary is a dictionary within another dictionary. In simpler terms, it's like a dictionary that contains other dictionaries as values for some of its keys.\n",
        "Use Case:- Imagine you're building an application to track student information. You could use a nested dictionary to store information about multiple students, where each student has multiple attributes."
      ],
      "metadata": {
        "id": "2MzfUhOIs80Z"
      }
    },
    {
      "cell_type": "markdown",
      "source": [
        "17. Describe the time complexity of accessing elements in a dictionary?\n",
        "-  The time complexity of accessing elements in a Python dictionary is O(1) on average.\n",
        "This implies that the time taken to access an element does not depend on the size of the dictionary."
      ],
      "metadata": {
        "id": "xabC9QH6tNU5"
      }
    },
    {
      "cell_type": "markdown",
      "source": [
        "18. In what situations are lists preferred over dictionaries?\n",
        "-  If we need to iterate through the elements in a specific order (e.g., for processing, displaying, or performing calculations sequentially), lists are more suitable."
      ],
      "metadata": {
        "id": "PpOlh3n8te5Q"
      }
    },
    {
      "cell_type": "markdown",
      "source": [
        "19. Why are dictionaries considered unordered, and how does that affect data retrieval?\n",
        "- Dictionaries in Python are considered unordered because they do not guarantee any specific order for the key-value pairs."
      ],
      "metadata": {
        "id": "284G2-D8tpuY"
      }
    },
    {
      "cell_type": "markdown",
      "source": [
        "20. Explain the difference between a list and a dictionary in terms of data retrieval.\n",
        "- A list is an ordered collection of items, whereas a dictionary is an unordered data collection in a key: value pair."
      ],
      "metadata": {
        "id": "hXRgYtlStyqC"
      }
    },
    {
      "cell_type": "markdown",
      "source": [
        "# Practical Questions\n"
      ],
      "metadata": {
        "id": "USfDl1iruALG"
      }
    },
    {
      "cell_type": "markdown",
      "source": [
        "1' Write a code to create a string with your name and print it.\n"
      ],
      "metadata": {
        "id": "_KQ4hpnouGKc"
      }
    },
    {
      "cell_type": "code",
      "source": [
        "name = \"Sahil\"\n",
        "print(name)\n",
        "print(type(name))"
      ],
      "metadata": {
        "colab": {
          "base_uri": "https://localhost:8080/"
        },
        "id": "Migz53cCuQJF",
        "outputId": "61bcbcb5-c007-42d4-b4c3-ae3e6975d7ec"
      },
      "execution_count": 3,
      "outputs": [
        {
          "output_type": "stream",
          "name": "stdout",
          "text": [
            "Sahil\n",
            "<class 'str'>\n"
          ]
        }
      ]
    },
    {
      "cell_type": "code",
      "source": [
        "#2 Write a code to find the length of the string \"Hello World\".\n",
        "s = \"Hello World\"\n",
        "print(len(s))"
      ],
      "metadata": {
        "colab": {
          "base_uri": "https://localhost:8080/"
        },
        "id": "rrivjyGmuQRH",
        "outputId": "82c19d34-9ecf-4ca0-a1e3-8cd1508abb09"
      },
      "execution_count": 6,
      "outputs": [
        {
          "output_type": "stream",
          "name": "stdout",
          "text": [
            "11\n"
          ]
        }
      ]
    },
    {
      "cell_type": "code",
      "execution_count": 7,
      "metadata": {
        "colab": {
          "base_uri": "https://localhost:8080/"
        },
        "id": "EElidxzOg0a3",
        "outputId": "c0b3be81-3791-4174-be9c-ca8ba4c33a89"
      },
      "outputs": [
        {
          "output_type": "stream",
          "name": "stdout",
          "text": [
            "Pyt\n"
          ]
        }
      ],
      "source": [
        "#3. Write a code to slice the first 3 characters from the string \"Python Programming\".\n",
        "s = \"Python Programming\"\n",
        "print(s[0:3])"
      ]
    },
    {
      "cell_type": "code",
      "source": [
        "#4. Write a code to convert the string \"hello\" to uppercase.\n",
        "s = \"hello\"\n",
        "print(s.upper())"
      ],
      "metadata": {
        "colab": {
          "base_uri": "https://localhost:8080/"
        },
        "id": "ABtcfwnZliIJ",
        "outputId": "f6944a09-603c-448d-c898-a6909e31ac7f"
      },
      "execution_count": 8,
      "outputs": [
        {
          "output_type": "stream",
          "name": "stdout",
          "text": [
            "HELLO\n"
          ]
        }
      ]
    },
    {
      "cell_type": "code",
      "source": [
        "#5. Write a code to replace the word \"apple\" with \"orange\" in the string \"I like apple\".\n",
        "string = \"I like apple\"\n",
        "new_string = string.replace(\"apple\", \"orange\")\n",
        "print(new_string)"
      ],
      "metadata": {
        "colab": {
          "base_uri": "https://localhost:8080/"
        },
        "id": "s4nLpsGswZCf",
        "outputId": "b99595da-d273-40e1-b794-76f9d4313877"
      },
      "execution_count": 9,
      "outputs": [
        {
          "output_type": "stream",
          "name": "stdout",
          "text": [
            "I like orange\n"
          ]
        }
      ]
    },
    {
      "cell_type": "code",
      "source": [
        "#6.  Write a code to create a list with numbers 1 to 5 and print it.\n",
        "a = [1,2,3,4,5]\n",
        "print(a)\n",
        "print(type(a))"
      ],
      "metadata": {
        "colab": {
          "base_uri": "https://localhost:8080/"
        },
        "id": "7tjbFcTKwuJM",
        "outputId": "915ac6b9-7d50-4b79-96f5-99aadac0d8ed"
      },
      "execution_count": 10,
      "outputs": [
        {
          "output_type": "stream",
          "name": "stdout",
          "text": [
            "[1, 2, 3, 4, 5]\n",
            "<class 'list'>\n"
          ]
        }
      ]
    },
    {
      "cell_type": "code",
      "source": [
        "7. #Write a code to append the number 10 to the list [1, 2, 3, 4].\n",
        "a = [1,2,3,4]\n",
        "a.append(10)\n",
        "print(a)"
      ],
      "metadata": {
        "colab": {
          "base_uri": "https://localhost:8080/"
        },
        "id": "S4epF_jyxY3b",
        "outputId": "db4d9c5f-0408-49f7-bd24-81d090318963"
      },
      "execution_count": 11,
      "outputs": [
        {
          "output_type": "stream",
          "name": "stdout",
          "text": [
            "[1, 2, 3, 4, 10]\n"
          ]
        }
      ]
    },
    {
      "cell_type": "code",
      "source": [
        "#8. Write a code to remove the number 3 from the list [1, 2, 3, 4, 5].\n",
        "a = [1,2,3,4,5]\n",
        "a.remove(3)\n",
        "print(a)"
      ],
      "metadata": {
        "colab": {
          "base_uri": "https://localhost:8080/"
        },
        "id": "LzX3DUeax5SF",
        "outputId": "d87fec8a-5071-4e5e-a1c7-4e1a293b238c"
      },
      "execution_count": 12,
      "outputs": [
        {
          "output_type": "stream",
          "name": "stdout",
          "text": [
            "[1, 2, 4, 5]\n"
          ]
        }
      ]
    },
    {
      "cell_type": "code",
      "source": [
        "#9. Write a code to access the second element in the list ['a', 'b', 'c', 'd'].\n",
        "list = ['a', 'b', 'c', 'd']\n",
        "print(list[1])"
      ],
      "metadata": {
        "colab": {
          "base_uri": "https://localhost:8080/"
        },
        "id": "wiFJrW-MyFcQ",
        "outputId": "866a7c22-1850-4d25-cbdd-4066f9462379"
      },
      "execution_count": 14,
      "outputs": [
        {
          "output_type": "stream",
          "name": "stdout",
          "text": [
            "b\n"
          ]
        }
      ]
    },
    {
      "cell_type": "code",
      "source": [
        "#10. Write a code to reverse the list [10, 20, 30, 40, 50].\n",
        "list = [10, 20, 30, 40, 50]\n",
        "list.reverse()\n",
        "print(list)"
      ],
      "metadata": {
        "colab": {
          "base_uri": "https://localhost:8080/"
        },
        "id": "yDg58so2yerq",
        "outputId": "8415024e-a309-4349-9072-c3e9e718194e"
      },
      "execution_count": 15,
      "outputs": [
        {
          "output_type": "stream",
          "name": "stdout",
          "text": [
            "[50, 40, 30, 20, 10]\n"
          ]
        }
      ]
    },
    {
      "cell_type": "code",
      "source": [
        "#11.  Write a code to create a tuple with the elements 10, 20, 30 and print it.\n",
        "a = (10, 20, 30)\n",
        "print(a)\n",
        "print(type(a))"
      ],
      "metadata": {
        "colab": {
          "base_uri": "https://localhost:8080/"
        },
        "id": "OK4XH4nKyq5U",
        "outputId": "7ad26435-2c8e-48e0-fb57-00f7d345f23f"
      },
      "execution_count": 16,
      "outputs": [
        {
          "output_type": "stream",
          "name": "stdout",
          "text": [
            "(10, 20, 30)\n",
            "<class 'tuple'>\n"
          ]
        }
      ]
    },
    {
      "cell_type": "code",
      "source": [
        "#12. Write a code to access the first element of the tuple ('apple', 'banana', 'cherry').\n",
        "tuple = ('apple', 'banana', 'cherry')\n",
        "print(tuple[0])"
      ],
      "metadata": {
        "colab": {
          "base_uri": "https://localhost:8080/"
        },
        "id": "CSudc2HRy_b0",
        "outputId": "702665a0-4c8f-4ec1-9319-684730603a8a"
      },
      "execution_count": 17,
      "outputs": [
        {
          "output_type": "stream",
          "name": "stdout",
          "text": [
            "apple\n"
          ]
        }
      ]
    },
    {
      "cell_type": "code",
      "source": [
        "#13. Write a code to count how many times the number 2 appears in the tuple (1, 2, 3, 2, 4, 2).\n",
        "tup = (1, 2, 3, 2, 4, 2)\n",
        "print(tup.count(2))"
      ],
      "metadata": {
        "colab": {
          "base_uri": "https://localhost:8080/"
        },
        "id": "gp8SxvtdzLmY",
        "outputId": "deb06be8-d841-4b32-dc09-727c738d2d2d"
      },
      "execution_count": 18,
      "outputs": [
        {
          "output_type": "stream",
          "name": "stdout",
          "text": [
            "3\n"
          ]
        }
      ]
    },
    {
      "cell_type": "code",
      "source": [
        "#14. Write a code to find the index of the element \"cat\" in the tuple ('dog', 'cat', 'rabbit').\n",
        "tup = ('dog', 'cat', 'rabbit')\n",
        "print(tup.index('cat'))"
      ],
      "metadata": {
        "colab": {
          "base_uri": "https://localhost:8080/"
        },
        "id": "-Ss8j_MazfAC",
        "outputId": "1a03cc9b-6b3d-4e9d-9cae-cd2cca9a4f84"
      },
      "execution_count": 19,
      "outputs": [
        {
          "output_type": "stream",
          "name": "stdout",
          "text": [
            "1\n"
          ]
        }
      ]
    },
    {
      "cell_type": "code",
      "source": [
        "#15. Write a code to check if the element \"banana\" is in the tuple ('apple', 'orange', 'banana').\n",
        "tup = ('apple', 'orange', 'banana')\n",
        "print('banana' in tup)"
      ],
      "metadata": {
        "colab": {
          "base_uri": "https://localhost:8080/"
        },
        "id": "qjHFjAhCzs1h",
        "outputId": "ba456625-04f7-4f93-eff4-e356e1a8995e"
      },
      "execution_count": 20,
      "outputs": [
        {
          "output_type": "stream",
          "name": "stdout",
          "text": [
            "True\n"
          ]
        }
      ]
    },
    {
      "cell_type": "code",
      "source": [
        "#16.  Write a code to create a set with the elements 1, 2, 3, 4, 5 and print it.\n",
        "a = {1, 2, 3, 4, 5}\n",
        "print(a)\n",
        "print(type(a))"
      ],
      "metadata": {
        "colab": {
          "base_uri": "https://localhost:8080/"
        },
        "id": "LKu_NF3Iz4HE",
        "outputId": "c39f26f9-9556-44d5-ef75-681f4ebd1051"
      },
      "execution_count": 22,
      "outputs": [
        {
          "output_type": "stream",
          "name": "stdout",
          "text": [
            "{1, 2, 3, 4, 5}\n",
            "<class 'set'>\n"
          ]
        }
      ]
    },
    {
      "cell_type": "code",
      "source": [
        "#17. Write a code to add the element 6 to the set {1, 2, 3, 4}.\n",
        "set = {1,2,3,4}\n",
        "set.add(6)\n",
        "print(set)"
      ],
      "metadata": {
        "colab": {
          "base_uri": "https://localhost:8080/"
        },
        "id": "wxLVs1T60RKY",
        "outputId": "e5591d7a-06fe-48e9-bf2e-5675095b05e4"
      },
      "execution_count": 24,
      "outputs": [
        {
          "output_type": "stream",
          "name": "stdout",
          "text": [
            "{1, 2, 3, 4, 6}\n"
          ]
        }
      ]
    },
    {
      "cell_type": "code",
      "source": [
        "#18. Write a code to create a tuple with the elements 10, 20, 30 and print it.\n",
        "a = (10,20,30)\n",
        "print(a)\n",
        "print(type(a))"
      ],
      "metadata": {
        "colab": {
          "base_uri": "https://localhost:8080/"
        },
        "id": "RI7jqTEA0mKS",
        "outputId": "3ab70aa5-db52-4500-f670-9788eb733dc3"
      },
      "execution_count": 25,
      "outputs": [
        {
          "output_type": "stream",
          "name": "stdout",
          "text": [
            "(10, 20, 30)\n",
            "<class 'tuple'>\n"
          ]
        }
      ]
    },
    {
      "cell_type": "code",
      "source": [
        "#19.  Write a code to access the first element of the tuple ('apple', 'banana', 'cherry').\n",
        "tup = ('apple', 'banana', 'cherry')\n",
        "print(tup[0])"
      ],
      "metadata": {
        "colab": {
          "base_uri": "https://localhost:8080/"
        },
        "id": "m_tcf_hs08bw",
        "outputId": "331b064f-519e-45a6-a5d4-d38e4f6428f2"
      },
      "execution_count": 26,
      "outputs": [
        {
          "output_type": "stream",
          "name": "stdout",
          "text": [
            "apple\n"
          ]
        }
      ]
    },
    {
      "cell_type": "code",
      "source": [
        "#20. Write a code to count how many times the number 2 appears in the tuple (1, 2, 3, 2, 4, 2).\n",
        "tup = (1, 2, 3, 2, 4, 2)\n",
        "print(tup.count(2))"
      ],
      "metadata": {
        "colab": {
          "base_uri": "https://localhost:8080/"
        },
        "id": "0JfHG81Q1LJW",
        "outputId": "9afedf47-07c4-48ff-d03e-93792cf14cd7"
      },
      "execution_count": 27,
      "outputs": [
        {
          "output_type": "stream",
          "name": "stdout",
          "text": [
            "3\n"
          ]
        }
      ]
    },
    {
      "cell_type": "code",
      "source": [
        "#21. Write a code to find the index of the element \"cat\" in the tuple ('dog', 'cat', 'rabbit').\n",
        "tup = ('dog', 'cat', 'rabbit')\n",
        "print(tup.index('cat'))"
      ],
      "metadata": {
        "colab": {
          "base_uri": "https://localhost:8080/"
        },
        "id": "HynUcHBT1XbA",
        "outputId": "4025c585-4b04-406e-d686-492337c6db64"
      },
      "execution_count": 28,
      "outputs": [
        {
          "output_type": "stream",
          "name": "stdout",
          "text": [
            "1\n"
          ]
        }
      ]
    },
    {
      "cell_type": "code",
      "source": [
        "#22.Write a code to check if the element \"banana\" is in the tuple ('apple', 'orange', 'banana').\n",
        "tup = ('apple', 'orange', 'banana')\n",
        "print('banana' in tup)"
      ],
      "metadata": {
        "colab": {
          "base_uri": "https://localhost:8080/"
        },
        "id": "hmZ2Lr7J1e-3",
        "outputId": "083a621c-c449-4c10-f0f5-629498f1e850"
      },
      "execution_count": 29,
      "outputs": [
        {
          "output_type": "stream",
          "name": "stdout",
          "text": [
            "True\n"
          ]
        }
      ]
    },
    {
      "cell_type": "code",
      "source": [
        "#23. Write a code to create a set with the elements 1, 2, 3, 4, 5 and print it.\n",
        "a = {1,2,3,4,5}\n",
        "print(a)\n",
        "print(type(a))"
      ],
      "metadata": {
        "colab": {
          "base_uri": "https://localhost:8080/"
        },
        "id": "DadtMARr1m-E",
        "outputId": "8562570a-e2fa-44df-f967-28a3c6695ec3"
      },
      "execution_count": 30,
      "outputs": [
        {
          "output_type": "stream",
          "name": "stdout",
          "text": [
            "{1, 2, 3, 4, 5}\n",
            "<class 'set'>\n"
          ]
        }
      ]
    },
    {
      "cell_type": "code",
      "source": [
        "#24.  Write a code to add the element 6 to the set {1, 2, 3, 4}.\n",
        "set = {1,2,3,4}\n",
        "set.add(6)\n",
        "print(set)"
      ],
      "metadata": {
        "colab": {
          "base_uri": "https://localhost:8080/"
        },
        "id": "37dz4GX-11M9",
        "outputId": "f1bdc8f1-3a4d-4d42-ec65-d2247fc98e41"
      },
      "execution_count": 31,
      "outputs": [
        {
          "output_type": "stream",
          "name": "stdout",
          "text": [
            "{1, 2, 3, 4, 6}\n"
          ]
        }
      ]
    },
    {
      "cell_type": "markdown",
      "source": [],
      "metadata": {
        "id": "D3JNHSWeg63U"
      }
    }
  ]
}